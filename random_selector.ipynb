{
  "nbformat": 4,
  "nbformat_minor": 0,
  "metadata": {
    "colab": {
      "provenance": [],
      "authorship_tag": "ABX9TyMm3I2e77/N63IoKHlTfaDE",
      "include_colab_link": true
    },
    "kernelspec": {
      "name": "python3",
      "display_name": "Python 3"
    },
    "language_info": {
      "name": "python"
    }
  },
  "cells": [
    {
      "cell_type": "markdown",
      "metadata": {
        "id": "view-in-github",
        "colab_type": "text"
      },
      "source": [
        "<a href=\"https://colab.research.google.com/github/iannickgagnon/itor_jan_23_oa_0038/blob/main/random_articles_selection.ipynb\" target=\"_parent\"><img src=\"https://colab.research.google.com/assets/colab-badge.svg\" alt=\"Open In Colab\"/></a>"
      ]
    },
    {
      "cell_type": "code",
      "source": [
        "import requests\n",
        "import numpy as np\n",
        "from bs4 import BeautifulSoup"
      ],
      "metadata": {
        "id": "dV2sPHexvOYr"
      },
      "execution_count": 1,
      "outputs": []
    },
    {
      "cell_type": "code",
      "execution_count": 2,
      "metadata": {
        "id": "wBUoPktrvNKO"
      },
      "outputs": [],
      "source": [
        "def gs_scrape(query: str, nb_pages: int = 5):\n",
        "    \"\"\"\n",
        "    Scrapes a given number of pages of Google Scholar results for a given search query.\n",
        "\n",
        "    It looks for the following HTML element classes : \n",
        "      \n",
        "      gs_ri : Google Scholar Results Item\n",
        "      gs_rt : Google Scholar Result Title\n",
        "      gs_a  : Google Scholar Author\n",
        "\n",
        "    It also extracts the href attribute (some_url) of the HTML hyperlink anchor <a href=some_url>.\n",
        "\n",
        "    Args:\n",
        "      query (str): The search query.\n",
        "      nb_pages (int): The number of pages to scrape the results from.\n",
        "\n",
        "    Returns:\n",
        "      (list): A list of articles stored as title-authors-link dictionaries.\n",
        "    \"\"\"\n",
        "\n",
        "    # The number of results shown on each page\n",
        "    NB_RESULTS_PER_PAGE = 10\n",
        "\n",
        "    # Client identifier\n",
        "    headers = {'User-Agent': 'Mozilla/5.0 (Windows NT 10.0; Win64; x64) AppleWebKit/537.36 (KHTML, like Gecko) Chrome/58.0.3029.110 Safari/537.3'}\n",
        "\n",
        "    # Initialize container for output articles\n",
        "    articles = []\n",
        "\n",
        "    # Through each page's articles\n",
        "    for page_index in range(nb_pages):\n",
        "\n",
        "        # Results iterator\n",
        "        start_index = page_index * NB_RESULTS_PER_PAGE\n",
        "        \n",
        "        # Build url for search query given current iterator state\n",
        "        url = f\"https://scholar.google.com/scholar?q={query}&hl=en&start={start_index}\"\n",
        "        \n",
        "        # SenD HTTP request\n",
        "        response = requests.get(url, headers=headers)\n",
        "\n",
        "        # Parse HTTP request response as HTML\n",
        "        for result in BeautifulSoup(response.content, 'html.parser').find_all('div', class_='gs_ri'):\n",
        "            \n",
        "            # Get title and authors\n",
        "            title = result.find('h3', class_='gs_rt').get_text()\n",
        "            authors = result.find('div', class_='gs_a').get_text()\n",
        "\n",
        "            # Get the href attribute from the hyperlink anchor\n",
        "            link = result.find('a')['href']\n",
        "            \n",
        "            # Save article as dictionary\n",
        "            article = {\n",
        "                'title': title,\n",
        "                'authors': authors,\n",
        "                'link': link\n",
        "            }\n",
        "            \n",
        "            # Store article in output list\n",
        "            articles.append(article)\n",
        "\n",
        "    return articles"
      ]
    },
    {
      "cell_type": "code",
      "source": [
        "# The number of pages to scrape\n",
        "NB_PAGES_TO_SCRAPE = 10\n",
        "\n",
        "# The number of articles to extract in the current iteration\n",
        "NB_ARTICLES = 10"
      ],
      "metadata": {
        "id": "rAwEEcHd7CQ0"
      },
      "execution_count": 3,
      "outputs": []
    },
    {
      "cell_type": "code",
      "source": [
        "# Fetch all articles from 10 results pages\n",
        "articles = gs_scrape('metaheuristics', nb_pages=NB_PAGES_TO_SCRAPE)"
      ],
      "metadata": {
        "id": "XnpbXrbQvXx8"
      },
      "execution_count": 4,
      "outputs": []
    },
    {
      "cell_type": "code",
      "source": [
        "# Generate 10 unique random indexes between 0 and NB_PAGES_TO_SCRAPE * 10 - 1\n",
        "index_max = NB_PAGES_TO_SCRAPE * 10 - 1\n",
        "indexes = np.random.randint(0, index_max, size=(NB_ARTICLES,))\n",
        "while len(set(indexes)) != len(indexes):\n",
        "  indexes = np.random.randint(0, index_max, size=(NB_ARTICLES,))"
      ],
      "metadata": {
        "id": "PkGAyERa3uGl"
      },
      "execution_count": 5,
      "outputs": []
    },
    {
      "cell_type": "code",
      "source": [
        "# Display articles\n",
        "for i in indexes:\n",
        "  print(f\"TITLE   : {articles[i]['title']}\\n\"\n",
        "        f\"AUTHORS : {articles[i]['authors']}\\n\"\n",
        "        f\"LINK    : {articles[i]['link']}\\n\\n\")"
      ],
      "metadata": {
        "colab": {
          "base_uri": "https://localhost:8080/"
        },
        "id": "QU1HJsGF4L9w",
        "outputId": "0ef4cbb2-6bc5-4bc5-fc33-ef25f6f8f5ff"
      },
      "execution_count": 6,
      "outputs": [
        {
          "output_type": "stream",
          "name": "stdout",
          "text": [
            "TITLE   : Metaheuristics for the team orienteering problem\n",
            "AUTHORS : C Archetti, A Hertz, MG Speranza - Journal of Heuristics, 2007 - Springer\n",
            "LINK    : https://link.springer.com/article/10.1007/s10732-006-9004-0\n",
            "\n",
            "\n",
            "TITLE   : [BOOK][B] Tuning metaheuristics: a machine learning perspective\n",
            "AUTHORS : M Birattari, J Kacprzyk - 2009 - Springer\n",
            "LINK    : https://link.springer.com/content/pdf/10.1007/978-3-642-00483-4.pdf\n",
            "\n",
            "\n",
            "TITLE   : [BOOK][B] Multi-objective optimization in computer networks using metaheuristics\n",
            "AUTHORS : Y Donoso, R Fabregat - 2016 - books.google.com\n",
            "LINK    : https://books.google.com/books?hl=en&lr=&id=C6m2vjd764kC&oi=fnd&pg=PP1&dq=metaheuristics&ots=f2xxjK4VNj&sig=Ir_TWuKWyC2IGetBqGf1Yr3qBGk\n",
            "\n",
            "\n",
            "TITLE   : A survey on optimization metaheuristics\n",
            "AUTHORS : I Boussaïd, J Lepagnot, P Siarry - Information sciences, 2013 - Elsevier\n",
            "LINK    : https://www.sciencedirect.com/science/article/pii/S0020025513001588\n",
            "\n",
            "\n",
            "TITLE   : [BOOK][B] Metaheuristics\n",
            "AUTHORS : P Siarry - 2016 - Springer\n",
            "LINK    : https://link.springer.com/content/pdf/10.1007/978-3-319-45403-0.pdf\n",
            "\n",
            "\n",
            "TITLE   : A review of metaheuristics in robotics\n",
            "AUTHORS : S Fong, S Deb, A Chaudhary - Computers & Electrical Engineering, 2015 - Elsevier\n",
            "LINK    : https://www.sciencedirect.com/science/article/pii/S0045790615000154\n",
            "\n",
            "\n",
            "TITLE   : [BOOK][B] A taxonomy of metaheuristics for bi-level optimization\n",
            "AUTHORS : EG Talbi - 2013 - Springer\n",
            "LINK    : https://link.springer.com/chapter/10.1007/978-3-642-37838-6_1\n",
            "\n",
            "\n",
            "TITLE   : Some metaheuristics should be simplified\n",
            "AUTHORS : AP Piotrowski, JJ Napiorkowski - Information Sciences, 2018 - Elsevier\n",
            "LINK    : https://www.sciencedirect.com/science/article/pii/S0020025517310332\n",
            "\n",
            "\n",
            "TITLE   : [BOOK][B] Applications of metaheuristics in process engineering\n",
            "AUTHORS : J Valadi, P Siarry - 2014 - Springer\n",
            "LINK    : https://link.springer.com/content/pdf/10.1007/978-3-319-06508-3.pdf\n",
            "\n",
            "\n",
            "TITLE   : Metaheuristics: outlines, MATLAB codes and examples\n",
            "AUTHORS : A Kaveh, T Bakhshpoori - 2019 - Springer\n",
            "LINK    : https://link.springer.com/content/pdf/10.1007/978-3-030-04067-3.pdf\n",
            "\n",
            "\n"
          ]
        }
      ]
    }
  ]
}
